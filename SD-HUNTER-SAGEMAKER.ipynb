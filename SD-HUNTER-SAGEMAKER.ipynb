{
 "cells": [
  {
   "cell_type": "markdown",
   "id": "ab7d1636-c632-4fc6-9969-86bf146c7b89",
   "metadata": {
    "tags": []
   },
   "source": [
    "### General Gost Notebook Actualizado V.1.0\n",
    "[![General Gost - #1665](https://img.shields.io/badge/General_Gost-%231665-5865F2?logo=discord&logoColor=5865F2)](https://lookup.guru/713503476176650241)\n",
    "[![!@Luminesco](https://img.shields.io/badge/%40Luminesco-008abe?logo=Twitter&logoColor=00DAFF)](https://twitter.com/Luminesco_)\n",
    "[![@Luminork](https://img.shields.io/badge/%40Luminork-00daff?logo=Pixiv&logoColor=00aecc+)](https://www.pixiv.net/en/users/93330971)\n",
    "<!-- <img src=\"https://i.pinimg.com/originals/7d/07/a2/7d07a255678962d30d8717dcf5dbd266.gif\" width=60% height=50%> -->\n",
    "> ¡Hola! Si tienes algún problema al ejecutar este Notebook, no dudes en contactarme. Estoy abierto a sugerencias y modificaciones para crear una comunidad más libre. ¡Será un placer ayudarte! <img src=\"https://emoji.discadia.com/emojis/bdf70476-e7fb-41dd-9341-b28608e7f00d.GIF\" width=\"20\" height=\"20\"/>\n",
    "<font color=\"#1AC851\"><br>\n",
    "<small><font color=gray> v27-09-23A </small></font></font>"
   ]
  },
  {
   "cell_type": "markdown",
   "id": "2a86fcac-7907-4ab9-8287-d21b241e1b89",
   "metadata": {},
   "source": [
    "### <img src=\"https://cdn3.emoji.gg/emojis/2868-announcement.gif\" width=\"25\" height=\"25\"> SESION VIVA EN ANDROID\n",
    "#### Ejecute esta celda para mantener viva la pestaña en el dispositivo móvil (antes de ejecutar la celda de inicio)"
   ]
  },
  {
   "cell_type": "code",
   "execution_count": null,
   "id": "8dc184cd-25e2-48b1-bdfb-d7b2ef6c0056",
   "metadata": {
    "tags": []
   },
   "outputs": [],
   "source": [
    "%%html\n",
    "<b>Presione reproducir en el reproductor de música para mantener viva la pestaña antes de ejecutar la celda de inicio (usa solo 13 MB de datos)</b><br/>\n",
    "<audio src=\"https://raw.githubusercontent.com/KoboldAI/KoboldAI-Client/main/colab/silence.m4a\" controls>"
   ]
  },
  {
   "cell_type": "markdown",
   "id": "dfd4fb94-9951-40ab-be3a-f9641e782b62",
   "metadata": {},
   "source": [
    "### <img src=\"https://emoji.discadia.com/emojis/788f3a39-7ecf-4aee-bac0-d7c0dbbf02a3.gif\" width=\"25\" height=\"25\"> EMPEZAR AQUÍ  \n",
    "#### Si ya usaste este Notebook antes en la sesión actual, verifica que la carpeta `sdf_web` no se encuentre para poder ejecutar el código de abajo. Si ya está en tu sesión, puedes saltar a la celda de **Inicio Rápido**"
   ]
  },
  {
   "cell_type": "code",
   "execution_count": null,
   "id": "5c1d32b2-c01c-4e10-82a4-591cd87d9c05",
   "metadata": {
    "tags": []
   },
   "outputs": [],
   "source": [
    "import os\n",
    "import time\n",
    "import zipfile\n",
    "import datetime\n",
    "from IPython.display import HTML, clear_output, display\n",
    "from IPython.utils import capture\n",
    "\n",
    "commandline_arguments = \" --ngrok 2VOvWtXsocjLqHIBaECsKoW3rgE_2qyjkyz66CJYLNHmZbAGt --skip-torch-cuda-test --enable-insecure-extension-access --opt-sdp-attention --listen --no-half-vae --disable-safe-unpickle --disable-nan-check --theme dark --no-hashing --gradio-queue\"\n",
    "try:\n",
    "  start_colab\n",
    "except:\n",
    "  start_colab = int(time.time())-5\n",
    "clear_output()\n",
    "inicio = time.time()\n",
    "!pwd \n",
    "\n",
    "# Obtener la ruta actual\n",
    "ruta_actual = os.getcwd()\n",
    "\n",
    "# CONFIG DIR (not recommended to change unless you know what you're doing)\n",
    "models_dir = f\"{ruta_actual}/sdf_web/models/Stable-diffusion\"\n",
    "source_dir = f\"{ruta_actual}/sdf_web\"\n",
    "# ---------------------------------------------------------------------\n",
    "\n",
    "print(\"🚀 Descargando SD modificado por Generalgost... Por favor, no detengas este proceso bajo ninguna circunstancia...\\n\", end='')\n",
    "if not os.path.exists(source_dir):\n",
    "    with capture.capture_output() as cap:\n",
    "        !conda install -c conda-forge libglib -y & conda update -n base conda -y\n",
    "        !pip install torch==2.0.1+cu118 torchvision==0.15.2+cu118 torchaudio===2.0.2+cu118 -f https://download.pytorch.org/whl/cu118/torch_stable.html\n",
    "        !wget https://huggingface.co/datasets/HUNTERDEBASTADOR/models2/resolve/main/sdf_web.zip\n",
    "        with zipfile.ZipFile('sdf_web.zip', 'r') as zip_ref:\n",
    "            zip_ref.extractall('')\n",
    "        !pip install pytorch_lightning gradio omegaconf safetensors kornia tqdm mutagen ngrok ultralytics\n",
    "        !rm -r sdf_web.zip\n",
    "    del cap\n",
    "\n",
    "    # Colab 🤝 Gradio (Colab timer integration for gradio) by NoCrypt\n",
    "    !echo -n {start_colab} > {source_dir}/static/colabTimer.txt\n",
    "\n",
    "    print(\"📦 Descargando de Model ShadowGost\\n\", end='')\n",
    "\n",
    "    # Descarga modelo ShadowGost\n",
    "  \n",
    "!conda install -y -c conda-forge libglib ffmpeg aria2\n",
    "!pip install mediapipe\n",
    "!rm /home/studio-lab-user/sdf_web/embeddings\n",
    "!mkdir /home/studio-lab-user/sdf_web/embeddings\n",
    "%cd /home/studio-lab-user/sdf_web/embeddings\n",
    "!aria2c --console-log-level=error -c -x 16 -s 16 -k 1M -o embeddings.zip https://huggingface.co/HUNTERDEBASTADOR/embeddings/resolve/9a85acb801f361e5d5de05f8e8722973c776169a/embeddings.zip\n",
    "!unzip -o embeddings.zip\n",
    "!rm embeddings.zip\n",
    "clear_output()"
   ]
  },
  {
   "cell_type": "code",
   "execution_count": null,
   "id": "0fe8c3a4",
   "metadata": {},
   "outputs": [],
   "source": [
    "#Model CARGAR MODELOS Y LORAS\n",
    " print(\"📦 Descargando de Modelos de HunterDesigner\\n\", end='')\n",
    "!conda install -y -c conda-forge libglib ffmpeg aria2\n",
    "!pip install mediapipe\n",
    "!aria2c --console-log-level=error -c -x 16 -s 16 -k 1M https://civitai.com/api/download/models/145885 -d /home/studio-lab-user/sdf_web/models/Stable-diffusion/ -o epiCPhotoGasm.safetensors\n",
    "!aria2c --console-log-level=error -c -x 16 -s 16 -k 1M https://civitai.com/api/download/models/126344 -d /home/studio-lab-user/sdf_web/models/Stable-diffusion/ -o OMEGACENTAURI.safetensors\n",
    "!aria2c --console-log-level=error -c -x 16 -s 16 -k 1M https://civitai.com/api/download/models/51913 -d /home/studio-lab-user/sdf_web/models/Stable-diffusion/ -o EdgeOfRealism.safetensors\n",
    "!aria2c --console-log-level=error -c -x 16 -s 16 -k 1M https://civitai.com/api/download/models/130072 -d /home/studio-lab-user/sdf_web/models/Stable-diffusion/ -o RealisticVisionV5.safetensors\n",
    "!aria2c --console-log-level=error -c -x 16 -s 16 -k 1M https://civitai.com/api/download/models/160495 -d /home/studio-lab-user/sdf_web/models/Stable-diffusion/ -o AnalogMadnessv6.safetensors\n",
    "!aria2c --console-log-level=error -c -x 16 -s 16 -k 1M https://civitai.com/api/download/models/143906 -d /home/studio-lab-user/sdf_web/models/Stable-diffusion/ -o EpicRealism_v5.safetensors\n",
    "\n",
    "\n",
    "\n",
    "\n",
    "##epiCPhotoGasm\n",
    "#https://civitai.com/api/download/models/145885\n",
    "##OMEGA CENTAURI\n",
    "#https://civitai.com/api/download/models/126344\n",
    "##Edge Of Realism fp16 baked VAE\n",
    "#https://civitai.com/api/download/models/51913\n",
    "##Realistic Vision V5.1\n",
    "#https://civitai.com/api/download/models/130072\n",
    "##Analog Madness v6\n",
    "#https://civitai.com/api/download/models/160495\n",
    "##EPICREALISM 5\n",
    "#https://civitai.com/api/download/models/143906\n",
    "##CyberRealistic V3\n",
    "#https://civitai.com/api/download/models/138176\n",
    "\n",
    "#Lora\n",
    "%cd /home/studio-lab-user/sdf_web/models/Lora\n",
    "!curl -Lo /home/studio-lab-user/sdf_web/models/Lora/add_detail.safetensors https://huggingface.co/Kizi-Art/Lora-Clone/resolve/main/add_detail.safetensors\n",
    "\n",
    "!wget --content-disposition https://civitai.com/api/download/models/128212\n",
    "!wget --content-disposition https://civitai.com/api/download/models/128752\n",
    "!wget --content-disposition https://civitai.com/api/download/models/179730\n",
    "!wget --content-disposition https://civitai.com/api/download/models/87153\n",
    "!wget --content-disposition https://civitai.com/api/download/models/171989\n",
    "!wget --content-disposition https://civitai.com/api/download/models/46885\n",
    "!wget --content-disposition https://civitai.com/api/download/models/129643\n",
    "!wget --content-disposition https://civitai.com/api/download/models/109808\n",
    "!wget --content-disposition https://civitai.com/api/download/models/62833\n",
    "!wget --content-disposition https://civitai.com/api/download/models/95006\n",
    "!curl -Lo /home/studio-lab-user/sdf_web/models/Lora/ https://huggingface.co/gemasai/FilmG2/resolve/main/FilmG2.safetensors\n",
    "!wget --content-disposition https://civitai.com/api/download/models/16576\n",
    "\n",
    "\n",
    "\n",
    "#VAE\n",
    "!curl -Lo /home/studio-lab-user/sdf_web/models/VAE/kl-f8-anime2.ckpt https://huggingface.co/hakurei/waifu-diffusion-v1-4/resolve/main/vae/kl-f8-anime2.ckpt\n",
    "!curl -Lo /home/studio-lab-user/sdf_web/models/VAE/vae-ft-mse-840000-ema-pruned.ckpt https://huggingface.co/stabilityai/sd-vae-ft-mse-original/resolve/main/vae-ft-mse-840000-ema-pruned.ckpt"
   ]
  },
  {
   "cell_type": "markdown",
   "id": "ad2befe3-2b7f-45c4-a1b6-24696fc56d47",
   "metadata": {},
   "source": [
    "### <img src=\"https://cdn3.emoji.gg/emojis/7555-cowroll.gif\" width=\"25\" height=\"25\"> **Inicio Rápido**\n",
    "#### Usa esta celda para iniciar Stable Diffusion si ya está descargado. Puedes iniciar aquí cuando se detiene la celda anterior."
   ]
  },
  {
   "cell_type": "code",
   "execution_count": null,
   "id": "4fe92b97-071d-4da5-8fc2-b6e289625b33",
   "metadata": {
    "tags": []
   },
   "outputs": [],
   "source": [
    "import os\n",
    "import time\n",
    "import datetime\n",
    "from IPython.display import clear_output\n",
    "\n",
    "try:\n",
    "    start_colab\n",
    "except:\n",
    "    start_colab = int(time.time()) - 5\n",
    "!pip install pytorch_lightning gradio omegaconf safetensors kornia tqdm mutagen ngrok ultralytics\n",
    "clear_output()\n",
    "\n",
    "ruta_actual = os.getcwd()\n",
    "\n",
    "# CONFIG DIR (not recommended to change unless you know what you're doing)\n",
    "models_dir = f\"/home/studio-lab-user/sdf_web/models/Stable-diffusion\"\n",
    "source_dir = f\"/home/studio-lab-user/sdf_web/\"\n",
    "\n",
    "inicio = time.time()\n",
    "!echo -n {start_colab} > {source_dir}/static/colabTimer.txt\n",
    "\n",
    "print(\"✅ Iniciando Stable Diffusion by GeneralGost\\n\", end='')\n",
    "%cd {source_dir}\n",
    "!python webui.py --ngrok 2VOvWtXsocjLqHIBaECsKoW3rgE_2qyjkyz66CJYLNHmZbAGt --skip-torch-cuda-test --enable-insecure-extension-access --opt-sdp-attention --listen --no-half-vae --disable-safe-unpickle --disable-nan-check --theme dark --no-hashing --gradio-queue"
   ]
  },
  {
   "cell_type": "markdown",
   "id": "9c02e956-5769-4be9-96e9-fea479706e91",
   "metadata": {},
   "source": [
    "### Descarga todas las imagenes generadas"
   ]
  },
  {
   "cell_type": "code",
   "execution_count": null,
   "id": "fdeece9b-7e0a-4c93-aec2-6d96b95cdc84",
   "metadata": {
    "tags": []
   },
   "outputs": [],
   "source": [
    "# Descargar y comprimir todas las salidas\n",
    "import zipfile\n",
    "import os\n",
    "\n",
    "def create_zip_archive(source_dir, output_path):\n",
    "    with zipfile.ZipFile(output_path, 'w', zipfile.ZIP_DEFLATED) as zipf:\n",
    "        for root, dirs, files in os.walk(source_dir):\n",
    "            for file in files:\n",
    "                file_path = os.path.join(root, file)\n",
    "                zipf.write(file_path, os.path.relpath(file_path, source_dir))\n",
    "\n",
    "# Especificar el directorio de origen y la ruta de salida\n",
    "source_dir = '/home/studio-lab-user/sdf_web/outputs'\n",
    "output_path = '/home/studio-lab-user/outputs.zip'\n",
    "\n",
    "# Crear el archivo ZIP\n",
    "create_zip_archive(source_dir, output_path)"
   ]
  },
  {
   "cell_type": "markdown",
   "id": "364e78a6-1b16-4336-8439-c0eb0b94c4ed",
   "metadata": {},
   "source": [
    "# <font color=\"red\"> Estas celdas solo son para el mantenimiento del Notebook </font> - \n",
    "# NO sirven para ejecutar ninguna función relacionada con Stable Diffusion"
   ]
  },
  {
   "cell_type": "markdown",
   "id": "c12aa52e-fc8c-4480-826b-e9a9573bcee5",
   "metadata": {},
   "source": [
    "### Compruebe el almacenamiento disponible (si el almacenamiento está lleno, puede causar problemas)"
   ]
  },
  {
   "cell_type": "code",
   "execution_count": null,
   "id": "439692fe-f99d-4703-aa6d-27a8bcc8a775",
   "metadata": {
    "tags": []
   },
   "outputs": [],
   "source": [
    "!df -h | grep -E 'Avail|home'"
   ]
  },
  {
   "cell_type": "markdown",
   "id": "e2379128-f432-4226-a011-3a61005ddd08",
   "metadata": {},
   "source": [
    "## Eliminar y vaciar la carpeta `OUTPUT`"
   ]
  },
  {
   "cell_type": "code",
   "execution_count": null,
   "id": "b8a56c3a-f0af-4c87-bf83-c99942a3a3b0",
   "metadata": {},
   "outputs": [],
   "source": [
    "!rm -rf /home/studio-lab-user/sdf_web/outputs/*"
   ]
  },
  {
   "cell_type": "markdown",
   "id": "510f601a-173e-4806-b05f-15902c65e717",
   "metadata": {},
   "source": [
    "## Eliminar y vaciar la carpeta `MODELS`"
   ]
  },
  {
   "cell_type": "code",
   "execution_count": null,
   "id": "8ac13a1e-906a-4da8-b98b-0e300ab5b8b4",
   "metadata": {},
   "outputs": [],
   "source": [
    "!rm -rf /home/studio-lab-user/sdf_web/models/Stable-diffusion/*"
   ]
  },
  {
   "cell_type": "markdown",
   "id": "1d0a3313-0c65-44ef-b89e-459fa779e84b",
   "metadata": {},
   "source": [
    "### COMIENCE A LIMPIAR TODO SOLO SI TIENE UN <font color=\"red\"> ERROR </font>"
   ]
  },
  {
   "cell_type": "markdown",
   "id": "a3996dac",
   "metadata": {},
   "source": [
    "#### Compruebe el almacenamiento disponible (si el almacenamiento está lleno, puede causar problemas)"
   ]
  },
  {
   "cell_type": "code",
   "execution_count": null,
   "id": "5ad6a08b-34a4-4a73-b618-38715a895bd2",
   "metadata": {
    "tags": []
   },
   "outputs": [],
   "source": [
    "!df -h | grep -E 'Avail|home'"
   ]
  },
  {
   "cell_type": "markdown",
   "id": "381279ee",
   "metadata": {},
   "source": [
    "#### Lista todas las carpetas y tamaños"
   ]
  },
  {
   "cell_type": "code",
   "execution_count": null,
   "id": "aaea3473-1ac6-40d8-98c2-a29386ca147e",
   "metadata": {
    "tags": []
   },
   "outputs": [],
   "source": [
    "!du -h --max-depth=1 /home/studio-lab-user/"
   ]
  },
  {
   "cell_type": "markdown",
   "id": "26239982",
   "metadata": {},
   "source": [
    "#### Limpiar eliminar todo, caché y Stable Diffusion"
   ]
  },
  {
   "cell_type": "code",
   "execution_count": null,
   "id": "ab02c781-46ea-4f07-8c4b-f329069d903b",
   "metadata": {
    "tags": []
   },
   "outputs": [],
   "source": [
    "!rm -r /home/studio-lab-user/sdf_web\n",
    "!rm -r /home/studio-lab-user/.cache\n",
    "!rm -r /home/studio-lab-user/.conda"
   ]
  },
  {
   "cell_type": "markdown",
   "id": "7b0f500d-0af2-457b-bc13-fb222f675832",
   "metadata": {},
   "source": [
    "### Crear el `env` si fue eliminado"
   ]
  },
  {
   "cell_type": "code",
   "execution_count": null,
   "id": "98a14c37-58e5-4ca6-9fe9-02f14ff707c3",
   "metadata": {
    "tags": []
   },
   "outputs": [],
   "source": [
    "!conda create --name default -y\n",
    "!conda install -c conda-forge libglib -y"
   ]
  },
  {
   "cell_type": "markdown",
   "id": "49cb0194-771e-46ef-a274-bcd34fd55b74",
   "metadata": {},
   "source": [
    "### Muestra la version actual de `Torch` y `Torchvision` con su version de `Cuda`"
   ]
  },
  {
   "cell_type": "code",
   "execution_count": null,
   "id": "47d905dd-a987-459a-8d28-3d2294203541",
   "metadata": {
    "tags": []
   },
   "outputs": [],
   "source": [
    "import torch\n",
    "import torchvision\n",
    "print(torch.__version__)\n",
    "print(torchvision.__version__)"
   ]
  }
 ],
 "metadata": {
  "kernelspec": {
   "display_name": "default:Python",
   "language": "python",
   "name": "conda-env-default-py"
  },
  "language_info": {
   "codemirror_mode": {
    "name": "ipython",
    "version": 3
   },
   "file_extension": ".py",
   "mimetype": "text/x-python",
   "name": "python",
   "nbconvert_exporter": "python",
   "pygments_lexer": "ipython3",
   "version": "3.9.16"
  }
 },
 "nbformat": 4,
 "nbformat_minor": 5
}
